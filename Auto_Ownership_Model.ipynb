{
 "cells": [
  {
   "cell_type": "code",
   "execution_count": 1,
   "metadata": {
    "collapsed": false
   },
   "outputs": [
    {
     "data": {
      "text/html": [
       "<style>\n",
       "\n",
       "@import url(https://fonts.googleapis.com/css?family=Roboto:400,700,500italic,100italic|Roboto+Mono:300,400,700|Roboto+Slab:200,900);\n",
       "\n",
       ".error_report {color:red; font-family:monospace;}\n",
       "\n",
       "div.output_wrapper {font-family: \"Book Antiqua\", \"Palatino\", serif;}\n",
       "\n",
       "div.output_wrapper table {border-collapse:collapse;}\n",
       "\n",
       "div.output_wrapper table, div.output_wrapper th, div.output_wrapper td {\n",
       "\tborder: 1px solid #999999;\n",
       "\tfont-family:\"Roboto Mono\", monospace;\n",
       "\tfont-size:90%;\n",
       "\tfont-weight:400;\n",
       "\t}\n",
       "\t\n",
       "div.output_wrapper th, div.output_wrapper td { padding:2px; }\n",
       "\n",
       "div.output_wrapper td.parameter_category {\n",
       "\tfont-family:\"Roboto\", monospace;\n",
       "\tfont-weight:500;\n",
       "\tbackground-color: #f4f4f4; \n",
       "\tfont-style: italic;\n",
       "\t}\n",
       "\n",
       "div.output_wrapper th {\n",
       "\tfont-family:\"Roboto\", monospace;\n",
       "\tfont-weight:700;\n",
       "\t}\n",
       "\t\n",
       ".larch_signature {font-size:80%; font-weight:100; font-style:italic; }\n",
       "\n",
       ".larch_head_tag {font-size:150%; font-weight:900; font-family:\"Roboto Slab\", Verdana;}\n",
       ".larch_head_tag_ver {font-size:80%; font-weight:200; font-family:\"Roboto Slab\", Verdana;}\n",
       "\n",
       "div.output_wrapper a.parameter_reference {font-style: italic; text-decoration: none}\n",
       "\n",
       "div.output_wrapper .strut2 {min-width:1in}\n",
       "\n",
       "div.output_wrapper .histogram_cell { padding-top:1; padding-bottom:1; vertical-align:center; }\n",
       "\n",
       "div.output_wrapper .raw_log pre {\n",
       "\tfont-family:\"Roboto Mono\", monospace;\n",
       "\tfont-weight:300;\n",
       "\tfont-size:70%;\n",
       "\t}\n",
       "\n",
       "div.output_wrapper caption {\n",
       "    caption-side: bottom;\n",
       "\ttext-align: left;\n",
       "\tfont-family: Roboto;\n",
       "\tfont-style: italic;\n",
       "\tfont-weight: 100;\n",
       "\tfont-size: 80%;\n",
       "}\n",
       "</style>"
      ],
      "text/plain": [
       "<IPython.core.display.HTML object>"
      ]
     },
     "metadata": {},
     "output_type": "display_data"
    },
    {
     "data": {
      "text/html": [
       "<div class=\"larch_head_tag\"><p style=\"float:left;margin-top:6px\"><img height=\"32\" src=\"data:image/png;base64,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%3D\" style=\"float:left;position:relative;top:-3px;padding-right:0.2em;\" width=\"32\" /> Larch <span class=\"larch_head_tag_ver\">3.3.22.6120713w</span></p><img height=\"48\" src=\"https://www.camsys.com/sites/default/files/camsys_logo.png\" style=\"float:right;height:40px;margin-top:0\" /></div>"
      ],
      "text/plain": [
       "<IPython.core.display.HTML object>"
      ]
     },
     "metadata": {},
     "output_type": "display_data"
    },
    {
     "ename": "FileNotFoundError",
     "evalue": "[Errno 2] No such file or directory: 'Z:\\\\ForJuan\\\\csvs_from_jupyter/auto_availability_variables.csv'",
     "output_type": "error",
     "traceback": [
      "\u001b[0;31m---------------------------------------------------------------------------\u001b[0m",
      "\u001b[0;31mFileNotFoundError\u001b[0m                         Traceback (most recent call last)",
      "\u001b[0;32m<ipython-input-1-5c9eed25c71e>\u001b[0m in \u001b[0;36m<module>\u001b[0;34m()\u001b[0m\n\u001b[1;32m      5\u001b[0m \u001b[0mraw_filename\u001b[0m \u001b[1;33m=\u001b[0m \u001b[1;34m'Z:\\ForJuan\\csvs_from_jupyter/auto_availability_variables.csv'\u001b[0m\u001b[1;33m\u001b[0m\u001b[0m\n\u001b[1;32m      6\u001b[0m \u001b[1;33m\u001b[0m\u001b[0m\n\u001b[0;32m----> 7\u001b[0;31m \u001b[0md\u001b[0m \u001b[1;33m=\u001b[0m \u001b[0mlarch\u001b[0m\u001b[1;33m.\u001b[0m\u001b[0mDB\u001b[0m\u001b[1;33m.\u001b[0m\u001b[0mCSV_idca\u001b[0m\u001b[1;33m(\u001b[0m\u001b[0mraw_filename\u001b[0m\u001b[1;33m,\u001b[0m \u001b[0mcaseid\u001b[0m\u001b[1;33m=\u001b[0m\u001b[1;34m\"sampn\"\u001b[0m\u001b[1;33m,\u001b[0m \u001b[0maltid\u001b[0m\u001b[1;33m=\u001b[0m\u001b[1;34m\"alt_id\"\u001b[0m\u001b[1;33m,\u001b[0m \u001b[0mchoice\u001b[0m\u001b[1;33m=\u001b[0m\u001b[1;34m\"car_ownership_observed\"\u001b[0m\u001b[1;33m)\u001b[0m\u001b[1;33m\u001b[0m\u001b[0m\n\u001b[0m",
      "\u001b[0;32mC:\\Users\\roblesj\\AppData\\Local\\Continuum\\Anaconda3\\envs\\estimation\\lib\\site-packages\\larch\\db.py\u001b[0m in \u001b[0;36mCSV_idca\u001b[0;34m(cls, filename, caseid, altid, choice, weight, avail, tablename, tablename_co, savename, alts, safety, index, shared)\u001b[0m\n\u001b[1;32m    521\u001b[0m                 \u001b[0md\u001b[0m\u001b[1;33m.\u001b[0m\u001b[0mqueries\u001b[0m \u001b[1;33m=\u001b[0m \u001b[0mQuerySetTwoTable\u001b[0m\u001b[1;33m(\u001b[0m\u001b[0md\u001b[0m\u001b[1;33m)\u001b[0m\u001b[1;33m\u001b[0m\u001b[0m\n\u001b[1;32m    522\u001b[0m                 \u001b[1;32mif\u001b[0m \u001b[0mtablename_co\u001b[0m\u001b[1;33m:\u001b[0m\u001b[1;33m\u001b[0m\u001b[0m\n\u001b[0;32m--> 523\u001b[0;31m                         \u001b[0mheads\u001b[0m \u001b[1;33m=\u001b[0m \u001b[0md\u001b[0m\u001b[1;33m.\u001b[0m\u001b[0mimport_csv\u001b[0m\u001b[1;33m(\u001b[0m\u001b[0mfilename\u001b[0m\u001b[1;33m,\u001b[0m \u001b[0mtable\u001b[0m\u001b[1;33m=\u001b[0m\u001b[1;34m\"larch_temp_import_table\"\u001b[0m\u001b[1;33m,\u001b[0m \u001b[0mtemp\u001b[0m\u001b[1;33m=\u001b[0m\u001b[1;32mTrue\u001b[0m\u001b[1;33m)\u001b[0m\u001b[1;33m\u001b[0m\u001b[0m\n\u001b[0m\u001b[1;32m    524\u001b[0m                 \u001b[1;32melse\u001b[0m\u001b[1;33m:\u001b[0m\u001b[1;33m\u001b[0m\u001b[0m\n\u001b[1;32m    525\u001b[0m                         \u001b[0mheads\u001b[0m \u001b[1;33m=\u001b[0m \u001b[0md\u001b[0m\u001b[1;33m.\u001b[0m\u001b[0mimport_csv\u001b[0m\u001b[1;33m(\u001b[0m\u001b[0mfilename\u001b[0m\u001b[1;33m,\u001b[0m \u001b[0mtable\u001b[0m\u001b[1;33m=\u001b[0m\u001b[0mtablename\u001b[0m\u001b[1;33m)\u001b[0m\u001b[1;33m\u001b[0m\u001b[0m\n",
      "\u001b[0;32mC:\\Users\\roblesj\\AppData\\Local\\Continuum\\Anaconda3\\envs\\estimation\\lib\\site-packages\\larch\\db.py\u001b[0m in \u001b[0;36mimport_csv\u001b[0;34m(self, rawdata, table, drop_old, progress_callback, temp, column_names)\u001b[0m\n\u001b[1;32m    712\u001b[0m                 \u001b[1;32mfrom\u001b[0m \u001b[1;33m.\u001b[0m\u001b[0mutilities\u001b[0m \u001b[1;32mimport\u001b[0m \u001b[0mprepare_import_headers\u001b[0m\u001b[1;33m\u001b[0m\u001b[0m\n\u001b[1;32m    713\u001b[0m                 \u001b[1;32mimport\u001b[0m \u001b[0mcsv\u001b[0m\u001b[1;33m\u001b[0m\u001b[0m\n\u001b[0;32m--> 714\u001b[0;31m                 \u001b[0mheaders\u001b[0m\u001b[1;33m,\u001b[0m \u001b[0mcsvReader\u001b[0m\u001b[1;33m,\u001b[0m \u001b[0msmartFile\u001b[0m \u001b[1;33m=\u001b[0m \u001b[0mprepare_import_headers\u001b[0m\u001b[1;33m(\u001b[0m\u001b[0mrawdata\u001b[0m\u001b[1;33m,\u001b[0m \u001b[0mcolumn_names\u001b[0m\u001b[1;33m)\u001b[0m\u001b[1;33m\u001b[0m\u001b[0m\n\u001b[0m\u001b[1;32m    715\u001b[0m                 \u001b[0meL\u001b[0m\u001b[1;33m.\u001b[0m\u001b[0mdebug\u001b[0m\u001b[1;33m(\u001b[0m\u001b[1;34m\"Importing data with headers:\"\u001b[0m\u001b[1;33m)\u001b[0m\u001b[1;33m\u001b[0m\u001b[0m\n\u001b[1;32m    716\u001b[0m                 \u001b[1;32mfor\u001b[0m \u001b[0mh\u001b[0m \u001b[1;32min\u001b[0m \u001b[0mheaders\u001b[0m\u001b[1;33m:\u001b[0m\u001b[1;33m\u001b[0m\u001b[0m\n",
      "\u001b[0;32mC:\\Users\\roblesj\\AppData\\Local\\Continuum\\Anaconda3\\envs\\estimation\\lib\\site-packages\\larch\\utilities.py\u001b[0m in \u001b[0;36mprepare_import_headers\u001b[0;34m(rawfilename, headers)\u001b[0m\n\u001b[1;32m    287\u001b[0m         \u001b[0meL\u001b[0m \u001b[1;33m=\u001b[0m \u001b[0mlogging\u001b[0m\u001b[1;33m.\u001b[0m\u001b[0mgetScriber\u001b[0m\u001b[1;33m(\u001b[0m\u001b[1;34m\"util\"\u001b[0m\u001b[1;33m)\u001b[0m\u001b[1;33m\u001b[0m\u001b[0m\n\u001b[1;32m    288\u001b[0m         \u001b[1;32mif\u001b[0m \u001b[0misinstance\u001b[0m\u001b[1;33m(\u001b[0m\u001b[0mrawfilename\u001b[0m\u001b[1;33m,\u001b[0m\u001b[0mstr\u001b[0m\u001b[1;33m)\u001b[0m\u001b[1;33m:\u001b[0m\u001b[1;33m\u001b[0m\u001b[0m\n\u001b[0;32m--> 289\u001b[0;31m                 \u001b[0mraw\u001b[0m \u001b[1;33m=\u001b[0m \u001b[0mSmartFileReader\u001b[0m\u001b[1;33m(\u001b[0m\u001b[0mrawfilename\u001b[0m\u001b[1;33m)\u001b[0m\u001b[1;33m\u001b[0m\u001b[0m\n\u001b[0m\u001b[1;32m    290\u001b[0m         \u001b[1;32melse\u001b[0m\u001b[1;33m:\u001b[0m\u001b[1;33m\u001b[0m\u001b[0m\n\u001b[1;32m    291\u001b[0m                 \u001b[0mraw\u001b[0m \u001b[1;33m=\u001b[0m \u001b[0mrawfilename\u001b[0m\u001b[1;33m\u001b[0m\u001b[0m\n",
      "\u001b[0;32mC:\\Users\\roblesj\\AppData\\Local\\Continuum\\Anaconda3\\envs\\estimation\\lib\\site-packages\\larch\\utilities.py\u001b[0m in \u001b[0;36m__init__\u001b[0;34m(self, file, *args, **kwargs)\u001b[0m\n\u001b[1;32m    230\u001b[0m                 \u001b[1;32melse\u001b[0m\u001b[1;33m:\u001b[0m\u001b[1;33m\u001b[0m\u001b[0m\n\u001b[1;32m    231\u001b[0m                         \u001b[1;32mimport\u001b[0m \u001b[0mos\u001b[0m\u001b[1;33m\u001b[0m\u001b[0m\n\u001b[0;32m--> 232\u001b[0;31m                         \u001b[0mself\u001b[0m\u001b[1;33m.\u001b[0m\u001b[0mfile\u001b[0m \u001b[1;33m=\u001b[0m \u001b[0mopen\u001b[0m\u001b[1;33m(\u001b[0m\u001b[0mfile\u001b[0m\u001b[1;33m,\u001b[0m \u001b[1;34m'rt'\u001b[0m\u001b[1;33m,\u001b[0m \u001b[1;33m*\u001b[0m\u001b[0margs\u001b[0m\u001b[1;33m,\u001b[0m \u001b[1;33m**\u001b[0m\u001b[0mkwargs\u001b[0m\u001b[1;33m)\u001b[0m\u001b[1;33m\u001b[0m\u001b[0m\n\u001b[0m\u001b[1;32m    233\u001b[0m                         \u001b[0mself\u001b[0m\u001b[1;33m.\u001b[0m\u001b[0m_filesize\u001b[0m \u001b[1;33m=\u001b[0m \u001b[0mos\u001b[0m\u001b[1;33m.\u001b[0m\u001b[0mfstat\u001b[0m\u001b[1;33m(\u001b[0m\u001b[0mself\u001b[0m\u001b[1;33m.\u001b[0m\u001b[0mfile\u001b[0m\u001b[1;33m.\u001b[0m\u001b[0mfileno\u001b[0m\u001b[1;33m(\u001b[0m\u001b[1;33m)\u001b[0m\u001b[1;33m)\u001b[0m\u001b[1;33m.\u001b[0m\u001b[0mst_size\u001b[0m\u001b[1;33m\u001b[0m\u001b[0m\n\u001b[1;32m    234\u001b[0m         \u001b[1;32mdef\u001b[0m \u001b[0m__getattr__\u001b[0m\u001b[1;33m(\u001b[0m\u001b[0mself\u001b[0m\u001b[1;33m,\u001b[0m \u001b[0mname\u001b[0m\u001b[1;33m)\u001b[0m\u001b[1;33m:\u001b[0m\u001b[1;33m\u001b[0m\u001b[0m\n",
      "\u001b[0;31mFileNotFoundError\u001b[0m: [Errno 2] No such file or directory: 'Z:\\\\ForJuan\\\\csvs_from_jupyter/auto_availability_variables.csv'"
     ]
    }
   ],
   "source": [
    "import larch\n",
    "from larch.roles import P,X\n",
    "\n",
    "\n",
    "raw_filename = 'auto_availability_variables.csv'\n",
    "\n",
    "d = larch.DB.CSV_idca(raw_filename, caseid=\"sampn\", altid=\"alt_id\", choice=\"car_ownership_observed\")\n"
   ]
  },
  {
   "cell_type": "code",
   "execution_count": null,
   "metadata": {
    "collapsed": false
   },
   "outputs": [],
   "source": [
    "print(d.info)\n",
    "\n",
    "print(d.variables_ca())\n",
    "\n",
    "print(d.variables_co())"
   ]
  },
  {
   "cell_type": "code",
   "execution_count": null,
   "metadata": {
    "collapsed": true
   },
   "outputs": [],
   "source": [
    "m = larch.Model(d)\n",
    "m.title = \"Auto Availability\"\n",
    "#alternatives are:\n",
    "#    1: household has no vehicles\n",
    "#    2: household has one vehicles\n",
    "#    3: household has two vehicles\n",
    "#    4: household has three vehicles\n",
    "#    5: household has four or more vehicles\n",
    " "
   ]
  },
  {
   "cell_type": "code",
   "execution_count": null,
   "metadata": {
    "collapsed": false
   },
   "outputs": [],
   "source": [
    "m.utility.co[1] = (\n",
    "                  P('1-driver (0-car alt)') * X('one_driver_in_hh') + \n",
    "                  P('2-drivers (0-car alt)') * X('two_drivers_in_hh') + \n",
    "                  #P('3-drivers (0-car alt)') * X('three_drivers_in_hh') +\n",
    "                  #P('4-drivers (0-car alt)') * X('four_drivers_in_hh') +\n",
    "                  P('at least as many cars as workers (0-car alt)') * X('at_least_as_many_cars_as_workers') +\n",
    "                  P('part-time workers per driver (0-car alt)') * X('part_time_workers_per_drivers') +\n",
    "                  P('elderly (75+) adults per driver (0-car alt)') * X('greater_than_75_yr_old_per_drivers') +\n",
    "                  P('driving age children per driver (0-car alt)') * X('licensed_drivers_under_18_per_driver') +\n",
    "                  P('children under 5 per driver (0-car alt)') * X('children_under_5_per_driver') +\n",
    "                  P('HH inc less than $15k/yr (0-car alt)') * X('income_under_15k') +\n",
    "                  P('HH inc between $15k/yr - $30k/yr (0-car alt)') * X('income_15k_to_30k') +\n",
    "                  P('HH inc between $75k/yr - $100k/yr (0-car alt)') * X('income_75k_to_100k') +\n",
    "                  P('HH inc greater than $100k/yr (0-car alt)') * X('income_above_100k') +\n",
    "                  P('HH inc not reported (0-car alt)') * X('income_not_reported') +\n",
    "                  #P('Logsum_FT worker_Inc<$30k (0-car alt)') * X('logsum_full_time_worker_under_30k') +\n",
    "                  #P('Logsum_students (0-car alt)') * X('logsum_students') +\n",
    "                  P('log of serv employment density (0-car alt)') * X('nat_log_of_serv_empl_density') +\n",
    "                  P('distance nearest transit stop (0-car alt)') * X('distance_from_transit_stop_var')\n",
    "                   )\n",
    "\n",
    "m.utility.co[2] = (\n",
    "                  P('2-drivers (1-car alt)') * X('two_drivers_in_hh') + \n",
    "                  P('3-drivers (1-car alt)') * X('three_drivers_in_hh') +\n",
    "                  P('4-drivers (1-car alt)') * X('four_drivers_in_hh') +\n",
    "                  P('at least as many cars as workers (1-car alt)') * X('at_least_as_many_cars_as_workers') +\n",
    "                  #P('part-time workers per driver (1-car alt)') * X('part_time_workers_per_drivers') +\n",
    "                  P('elderly (75+) adults per driver (1-car alt)') * X('greater_than_75_yr_old_per_drivers') +\n",
    "                  P('driving age children per driver (1-car alt)') * X('licensed_drivers_under_18_per_driver') +\n",
    "                  P('children under 5 per driver (1-car alt)') * X('children_under_5_per_driver') +\n",
    "                  P('HH inc less than $15k/yr (1-car alt)') * X('income_under_15k') +\n",
    "                  P('HH inc between $15k/yr - $30k/yr (1-car alt)') * X('income_15k_to_30k') +\n",
    "                  P('HH inc between $75k/yr - $100k/yr (1-car alt)') * X('income_75k_to_100k') +\n",
    "                  P('HH inc greater than $100k/yr (1-car alt)') * X('income_above_100k') +\n",
    "                  P('HH inc not reported (1-car alt)') * X('income_not_reported') +\n",
    "                  #P('Logsum_FT worker_Inc<$30k (1-car alt)') * X('logsum_full_time_worker_under_30k') * X('accvar1')+\n",
    "                  #P('Logsum_students (1-car alt)') * X('logsum_students') * X('accvar1') +\n",
    "                  P('log of serv employment density (1-car alt)') * X('nat_log_of_serv_empl_density') * X('accvar1') +\n",
    "                  P('distance nearest transit stop (1-car alt)') * X('distance_from_transit_stop_var') * X('accvar1')\n",
    "                   )\n",
    "\n",
    "m.utility.co[3] = (\n",
    "                  P('1-driver (2-cars alt)') * X('one_driver_in_hh') + \n",
    "                  P('3-drivers (2-cars alt)') * X('three_drivers_in_hh') +\n",
    "                  P('4-drivers (2-cars alt)') * X('four_drivers_in_hh') +\n",
    "                  P('at least as many cars as workers (2-cars alt)') * X('at_least_as_many_cars_as_workers') +\n",
    "                  #P('elderly (75+) adults per driver (2-cars alt)') * X('greater_than_75_yr_old_per_drivers') +\n",
    "                  #P('driving age children per driver (2-cars alt)') * X('licensed_drivers_under_18_per_driver') +\n",
    "                  #P('children under 5 per driver (2-cars alt)') * X('children_under_5_per_driver') +\n",
    "                  #P('HH inc less than $15k/yr (2-cars alt)') * X('income_under_15k') +\n",
    "                  #P('HH inc between $15k/yr - $30k/yr (2-cars alt)') * X('income_15k_to_30k') +\n",
    "                  #P('HH inc between $75k/yr - $100k/yr (2-cars alt)') * X('income_75k_to_100k') +\n",
    "                  #P('HH inc greater than $100k/yr (2-cars alt)') * X('income_above_100k') +\n",
    "                  #P('HH inc not reported (2-cars alt)') * X('income_not_reported') +\n",
    "                  #P('Logsum_FT worker_Inc<$30k (2-cars alt)') * X('logsum_full_time_worker_under_30k') * X('accvar2') +\n",
    "                  #P('Logsum_students (2-cars alt)') * X('logsum_students') * X('accvar2') +\n",
    "                  P('log of serv employment density (2-cars alt)') * X('nat_log_of_serv_empl_density') * X('accvar2') +\n",
    "                  P('distance nearest transit stop (2-cars alt)') * X('distance_from_transit_stop_var') * X('accvar2')\n",
    "                   )\n",
    "\n",
    "m.utility.co[4] = (\n",
    "                  P('1-driver (3-cars alt)') * X('one_driver_in_hh') + \n",
    "                  P('2-drivers (3-cars alt)') * X('two_drivers_in_hh') + \n",
    "                  P('4-drivers (3-cars alt)') * X('four_drivers_in_hh') +\n",
    "                  P('at least as many cars as workers (3-cars alt)') * X('at_least_as_many_cars_as_workers') +\n",
    "                  #P('part-time workers per driver (3-cars alt)') * X('part_time_workers_per_drivers') +\n",
    "                  #P('elderly (75+) adults per driver (3-cars alt)') * X('greater_than_75_yr_old_per_drivers') +\n",
    "                  #P('driving age children per driver (3-cars alt)') * X('licensed_drivers_under_18_per_driver') +\n",
    "                  P('children under 5 per driver (3-cars alt)') * X('children_under_5_per_driver') +\n",
    "                  P('HH inc less than $15k/yr (3-cars alt)') * X('income_under_15k') +\n",
    "                  P('HH inc between $15k/yr - $30k/yr (3-cars alt)') * X('income_15k_to_30k') +\n",
    "                  P('HH inc between $75k/yr - $100k/yr (3-cars alt)') * X('income_75k_to_100k') +\n",
    "                  P('HH inc greater than $100k/yr (3-cars alt)') * X('income_above_100k') +\n",
    "                  P('HH inc not reported (3-cars alt)') * X('income_not_reported') +\n",
    "                  #P('Logsum_FT worker_Inc<$30k (3-cars alt)') * X('logsum_full_time_worker_under_30k') * X('accvar3') +\n",
    "                  #P('Logsum_students (3-cars alt)') * X('logsum_students') * X('accvar3') +\n",
    "                  P('log of serv employment density (3-cars alt)') * X('nat_log_of_serv_empl_density') * X('accvar3') +\n",
    "                  P('distance nearest transit stop (3-cars alt)') * X('distance_from_transit_stop_var') * X('accvar3')\n",
    "                   )\n",
    "\n",
    "m.utility.co[5] = (\n",
    "                  P('1-driver (4+ cars alt)') * X('one_driver_in_hh') + \n",
    "                  P('2-drivers (4+ cars alt)') * X('two_drivers_in_hh') + \n",
    "                  P('3-drivers (4+ cars alt)') * X('three_drivers_in_hh') +\n",
    "                  P('at least as many cars as workers (4+ cars alt)') * X('at_least_as_many_cars_as_workers') +\n",
    "                  P('part-time workers per driver (4+ cars alt)') * X('part_time_workers_per_drivers') +\n",
    "                  P('elderly (75+) adults per driver (4+ cars alt)') * X('greater_than_75_yr_old_per_drivers') +\n",
    "                  P('driving age children per driver (4+ cars alt)') * X('licensed_drivers_under_18_per_driver') +\n",
    "                  P('children under 5 per driver (4+ cars alt)') * X('children_under_5_per_driver') +\n",
    "                  P('HH inc less than $15k/yr (4+ cars alt)') * X('income_under_15k') +\n",
    "                  P('HH inc between $15k/yr - $30k/yr (4+ cars alt)') * X('income_15k_to_30k') +\n",
    "                  P('HH inc between $75k/yr - $100k/yr (4+ cars alt)') * X('income_75k_to_100k') +\n",
    "                  P('HH inc greater than $100k/yr (4+ cars alt)') * X('income_above_100k') +\n",
    "                  P('HH inc not reported (4+ cars alt)') * X('income_not_reported') +\n",
    "                  #P('Logsum_FT worker_Inc<$30k (4+ cars alt)') * X('logsum_full_time_worker_under_30k') * X('accvar4') +\n",
    "                  #P('Logsum_students (4+ cars alt)') * X('logsum_students') * X('accvar4') +\n",
    "                  P('log of serv employment density (4+ cars alt)') * X('nat_log_of_serv_empl_density') * X('accvar4') +\n",
    "                  P('distance nearest transit stop (4+ cars alt)') * X('distance_from_transit_stop_var') * X('accvar4')\n",
    "                   )\n",
    "\n",
    "m.maximize_loglike()\n",
    "\n",
    "print(m)"
   ]
  },
  {
   "cell_type": "code",
   "execution_count": null,
   "metadata": {
    "collapsed": false
   },
   "outputs": [],
   "source": [
    "#m.xhtml('!')\n"
   ]
  }
 ],
 "metadata": {
  "anaconda-cloud": {},
  "kernelspec": {
   "display_name": "Python [conda env:estimation]",
   "language": "python",
   "name": "conda-env-estimation-py"
  },
  "language_info": {
   "codemirror_mode": {
    "name": "ipython",
    "version": 3
   },
   "file_extension": ".py",
   "mimetype": "text/x-python",
   "name": "python",
   "nbconvert_exporter": "python",
   "pygments_lexer": "ipython3",
   "version": "3.5.2"
  }
 },
 "nbformat": 4,
 "nbformat_minor": 1
}
