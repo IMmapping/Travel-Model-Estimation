{
 "cells": [
  {
   "cell_type": "code",
   "execution_count": 1,
   "metadata": {
    "collapsed": false
   },
   "outputs": [],
   "source": [
    "import pyodbc\n",
    "\n",
    "connection_to_front_range_travel_counts_on_modeling_server = pyodbc.connect(DSN = 'frtc')\n",
    "cursor_for_front_range_travel_counts = connection_to_front_range_travel_counts_on_modeling_server.cursor()\n",
    "\n",
    "dictionary_of_auto_availablility_variables = {}\n",
    "dictionary_of_auto_availablility_variables['column_names'] = []"
   ]
  },
  {
   "cell_type": "code",
   "execution_count": 2,
   "metadata": {
    "collapsed": false
   },
   "outputs": [],
   "source": [
    "dictionary_of_auto_availablility_variables['column_names'].append('num_licensed_drivers_in_hh')\n",
    "\n",
    "select_number_of_licensed_drivers = cursor_for_front_range_travel_counts.execute('''SELECT[SAMPN],[HHLIC]\n",
    "                                                                                FROM AllMPOs_HH_deliv''').fetchall()\n",
    "\n",
    "for each_household in select_number_of_licensed_drivers:\n",
    "    household_id = each_household[0]\n",
    "    number_of_drivers = each_household[1]\n",
    "    dictionary_of_auto_availablility_variables[household_id] = [number_of_drivers]\n",
    "    \n",
    "del select_number_of_licensed_drivers"
   ]
  },
  {
   "cell_type": "code",
   "execution_count": 3,
   "metadata": {
    "collapsed": false
   },
   "outputs": [],
   "source": [
    "dictionary_of_auto_availablility_variables['column_names'].append('one_licensed_driver_in_hh')\n",
    "dictionary_of_auto_availablility_variables['column_names'].append('two_licensed_drivers_in_hh')\n",
    "dictionary_of_auto_availablility_variables['column_names'].append('three_licensed_drivers_in_hh')\n",
    "dictionary_of_auto_availablility_variables['column_names'].append('four_or_more_licensed_drivers_in_hh')\n",
    "\n",
    "for each_household in dictionary_of_auto_availablility_variables.items():\n",
    "    household_id = each_household[0]\n",
    "    if household_id == 'column_names':\n",
    "        continue\n",
    "    else:\n",
    "        \n",
    "        number_of_drivers = each_household[1][0]\n",
    "        \n",
    "        list_of_number_of_driver_variables = [0,0,0,0]\n",
    "        if number_of_drivers == 0:\n",
    "        \n",
    "            for each_driver_variable in list_of_number_of_driver_variables:\n",
    "                dictionary_of_auto_availablility_variables[household_id].append(each_driver_variable)\n",
    "        \n",
    "        elif number_of_drivers > 0:\n",
    "            if number_of_drivers >= 4:\n",
    "                number_of_drivers = 4\n",
    "\n",
    "            list_of_number_of_driver_variables[number_of_drivers - 1] = 1\n",
    "\n",
    "            for each_driver_variable in list_of_number_of_driver_variables:\n",
    "                dictionary_of_auto_availablility_variables[household_id].append(each_driver_variable)\n",
    "        "
   ]
  },
  {
   "cell_type": "code",
   "execution_count": 4,
   "metadata": {
    "collapsed": false
   },
   "outputs": [],
   "source": [
    "dictionary_of_auto_availablility_variables['column_names'].append('num_of_veh_in_hh')\n",
    "\n",
    "select_number_of_vehicles = cursor_for_front_range_travel_counts.execute('''SELECT [SAMPN],[HHVEH] \n",
    "                                                                        FROM AllMPOs_HH_deliv''').fetchall()\n",
    "\n",
    "for each_household in select_number_of_vehicles:\n",
    "    household_id = each_household[0]\n",
    "    number_of_vehicles_in_hh = each_household[1]\n",
    "    dictionary_of_auto_availablility_variables[household_id].append(int(number_of_vehicles_in_hh))\n",
    "    \n",
    "del select_number_of_vehicles"
   ]
  },
  {
   "cell_type": "code",
   "execution_count": 5,
   "metadata": {
    "collapsed": false
   },
   "outputs": [],
   "source": [
    "dictionary_of_auto_availablility_variables['column_names'].append('accvar1')\n",
    "dictionary_of_auto_availablility_variables['column_names'].append('accvar2')\n",
    "dictionary_of_auto_availablility_variables['column_names'].append('accvar3')\n",
    "dictionary_of_auto_availablility_variables['column_names'].append('accvar4')\n",
    "\n",
    "\n",
    "for each_household in dictionary_of_auto_availablility_variables.items():\n",
    "    household_id = each_household[0]\n",
    "    if household_id == 'column_names':\n",
    "        continue\n",
    "    else:\n",
    "        number_of_drivers = each_household[1][0]\n",
    "        number_of_vehicles = each_household[1][5]\n",
    "        list_of_accessibility_variables = [0,0,0,0]\n",
    "        if number_of_vehicles > 0:   \n",
    "            if number_of_drivers > number_of_vehicles:\n",
    "                if number_of_vehicles > 4:\n",
    "                    number_of_vehicles = 4\n",
    "\n",
    "                list_of_accessibility_variables[int(number_of_vehicles -1)] = 1\n",
    "\n",
    "        for each_accesibility_variable in list_of_accessibility_variables:\n",
    "            dictionary_of_auto_availablility_variables[household_id].append(each_accesibility_variable)\n"
   ]
  },
  {
   "cell_type": "code",
   "execution_count": 6,
   "metadata": {
    "collapsed": false
   },
   "outputs": [
    {
     "data": {
      "text/plain": [
       "[2, 0, 1, 0, 0, 3, 0, 0, 0, 0]"
      ]
     },
     "execution_count": 6,
     "metadata": {},
     "output_type": "execute_result"
    }
   ],
   "source": [
    "each_household[1]"
   ]
  },
  {
   "cell_type": "code",
   "execution_count": 7,
   "metadata": {
    "collapsed": false
   },
   "outputs": [],
   "source": [
    "dictionary_of_auto_availablility_variables['column_names'].append('number_of_workers')\n",
    "\n",
    "select_number_of_workers = cursor_for_front_range_travel_counts.execute('''SELECT [SAMPN],SUM(WORKS) AS NUMBER_OF_WORKERS \n",
    "                                                                        FROM AllMPOs_PER_deliv \n",
    "                                                                        WHERE WORKS = 1\n",
    "                                                                        GROUP BY SAMPN''').fetchall()\n",
    "\n",
    "list_of_hhs_with_workers = [x[0] for x in select_number_of_workers]\n",
    "\n",
    "for each_household in dictionary_of_auto_availablility_variables.items():\n",
    "    household_id = each_household[0]\n",
    "    if household_id == 'column_names':\n",
    "        continue\n",
    "    else:\n",
    "        if household_id in list_of_hhs_with_workers:\n",
    "            index_of_household_id = list_of_hhs_with_workers.index(household_id)\n",
    "            number_of_workers_in_household = select_number_of_workers[index_of_household_id][1]\n",
    "            dictionary_of_auto_availablility_variables[household_id].append(int(number_of_workers_in_household))\n",
    "        else:\n",
    "            dictionary_of_auto_availablility_variables[household_id].append(0)\n",
    "            \n",
    "del select_number_of_workers"
   ]
  },
  {
   "cell_type": "code",
   "execution_count": 8,
   "metadata": {
    "collapsed": false
   },
   "outputs": [],
   "source": [
    "dictionary_of_auto_availablility_variables['column_names'].append('number_of_part_time_workers')\n",
    "\n",
    "select_number_of_part_time_workers = cursor_for_front_range_travel_counts.execute('''SELECT [SAMPN],COUNT(PERSTYPE)\n",
    "                                                                                  FROM AllMPOs_PER_deliv \n",
    "                                                                                  WHERE PERSTYPE = 2 \n",
    "                                                                                  GROUP BY SAMPN''').fetchall()\n",
    "\n",
    "list_of_hhs_with_part_time_workers = [x[0] for x in select_number_of_part_time_workers]\n",
    "\n",
    "for each_household in dictionary_of_auto_availablility_variables.items():\n",
    "    household_id = each_household[0]\n",
    "    if household_id == 'column_names':\n",
    "        continue\n",
    "    else:\n",
    "\n",
    "        if household_id in list_of_hhs_with_part_time_workers:\n",
    "            index_of_household_id = list_of_hhs_with_part_time_workers.index(household_id)\n",
    "            number_of_part_time_workers_in_household = select_number_of_part_time_workers[index_of_household_id][1]\n",
    "            dictionary_of_auto_availablility_variables[household_id].append(int(number_of_part_time_workers_in_household))\n",
    "        else:\n",
    "            dictionary_of_auto_availablility_variables[household_id].append(0)\n",
    "            \n",
    "del select_number_of_part_time_workers"
   ]
  },
  {
   "cell_type": "code",
   "execution_count": 9,
   "metadata": {
    "collapsed": false
   },
   "outputs": [],
   "source": [
    "dictionary_of_auto_availablility_variables['column_names'].append('number_of_part_time_workers_per_driver')\n",
    "\n",
    "for each_household in dictionary_of_auto_availablility_variables.items():\n",
    "    household_id = each_household[0]\n",
    "    if household_id == 'column_names':\n",
    "        continue\n",
    "    else:\n",
    "       \n",
    "        number_of_part_time_workers = each_household[1][11]\n",
    "        number_of_drivers_in_hh = each_household[1][0]\n",
    "        \n",
    "        number_of_part_time_workers_per_driver = float(number_of_part_time_workers) / float(number_of_drivers)\n",
    "        \n",
    "        dictionary_of_auto_availablility_variables[household_id].append(number_of_part_time_workers_per_driver)"
   ]
  },
  {
   "cell_type": "code",
   "execution_count": 10,
   "metadata": {
    "collapsed": false
   },
   "outputs": [],
   "source": [
    "dictionary_of_auto_availablility_variables['column_names'].append('number_of_hh_members_over_75yrs_old')\n",
    "\n",
    "select_number_of_hh_members_over_75 = cursor_for_front_range_travel_counts.execute('''SELECT [SAMPN],COUNT(AGE) \n",
    "                                                                                         FROM AllMPOs_PER_deliv \n",
    "                                                                                         WHERE AGE > 75 \n",
    "                                                                                         GROUP BY SAMPN''').fetchall()\n",
    "\n",
    "list_of_hhs_with_members_over_75yrs_old =  [x[0] for x in select_number_of_hh_members_over_75]\n",
    "\n",
    "for each_household in dictionary_of_auto_availablility_variables.items():\n",
    "    household_id = each_household[0]\n",
    "    if household_id == 'column_names':\n",
    "        continue\n",
    "  \n",
    "    if household_id in list_of_hhs_with_members_over_75yrs_old:\n",
    "        index_of_household_id = list_of_hhs_with_members_over_75yrs_old.index(household_id)\n",
    "        number_of_hh_members_over_75 = select_number_of_hh_members_over_75[index_of_household_id][1]\n",
    "    else:\n",
    "        number_of_hh_members_over_75 = 0\n",
    "                \n",
    "    dictionary_of_auto_availablility_variables[household_id].append(number_of_hh_members_over_75)\n",
    "\n",
    "\n",
    "del(select_number_of_hh_members_over_75)"
   ]
  },
  {
   "cell_type": "code",
   "execution_count": 11,
   "metadata": {
    "collapsed": false
   },
   "outputs": [],
   "source": [
    "dictionary_of_auto_availablility_variables['column_names'].append('hh_members_over_75yrs_old_per_driver')\n",
    "\n",
    "\n",
    "for each_household in dictionary_of_auto_availablility_variables.items():\n",
    "    household_id = each_household[0]\n",
    "    if household_id == 'column_names':\n",
    "        continue\n",
    "    \n",
    "    number_of_drivers = each_household[1][0]\n",
    "    number_of_hh_members_over_75 = each_household[1][13]\n",
    "    \n",
    "    try:\n",
    "        number_of_hh_members_over_75yrs_old_per_driver = float(number_of_hh_members_over_75) / float(number_of_drivers)\n",
    "    except ZeroDivisionError:\n",
    "        number_of_hh_members_over_75yrs_old_per_driver = 0\n",
    "        \n",
    "    dictionary_of_auto_availablility_variables[household_id].append(number_of_hh_members_over_75yrs_old_per_driver)"
   ]
  },
  {
   "cell_type": "code",
   "execution_count": 12,
   "metadata": {
    "collapsed": false
   },
   "outputs": [],
   "source": [
    "dictionary_of_auto_availablility_variables['column_names'].append('number_of_university_students_per_driver')\n",
    "\n",
    "select_number_of_universty_students = cursor_for_front_range_travel_counts.execute('''SELECT [SAMPN],\n",
    "                                                                                    COUNT(PERSTYPE)\n",
    "                                                                                    FROM AllMPOs_PER_deliv\n",
    "                                                                                    WHERE PERSTYPE = 5 \n",
    "                                                                                    GROUP BY SAMPN''').fetchall()\n",
    "\n",
    "list_of_hhs_with_university_students = [x[0] for x in select_number_of_universty_students]\n",
    "\n",
    "for each_household in dictionary_of_auto_availablility_variables.items():\n",
    "    household_id = each_household[0]\n",
    "    if household_id == 'column_names':\n",
    "        continue\n",
    "    \n",
    "    if household_id in list_of_hhs_with_university_students:    \n",
    "        index_of_household_id  = list_of_hhs_with_university_students.index(household_id)\n",
    "        number_of_university_students_in_hh = select_number_of_universty_students[index_of_household_id][1]\n",
    "        number_of_drivers = each_household[1][0]\n",
    "        \n",
    "        try:\n",
    "            number_of_university_students_per_driver = float(number_of_university_students_in_hh) / float(number_of_drivers)\n",
    "        \n",
    "        except ZeroDivisionError:\n",
    "            number_of_university_students_per_driver = 0\n",
    "    else:\n",
    "        number_of_university_students_per_driver = 0\n",
    "        \n",
    "    dictionary_of_auto_availablility_variables[household_id].append(number_of_university_students_per_driver)\n",
    "        \n",
    "del select_number_of_universty_students"
   ]
  },
  {
   "cell_type": "code",
   "execution_count": 13,
   "metadata": {
    "collapsed": false
   },
   "outputs": [],
   "source": [
    "for number_of_driver_variables in dictionary_of_auto_availablility_variables.items():\n",
    "    if len(number_of_driver_variables[1]) != 16:\n",
    "        print((number_of_driver_variables[0], len(number_of_driver_variables[1])))"
   ]
  },
  {
   "cell_type": "code",
   "execution_count": 14,
   "metadata": {
    "collapsed": false
   },
   "outputs": [],
   "source": [
    "dictionary_of_auto_availablility_variables['column_names'].append('number_of_drivers_under_18_per_driver')\n",
    "\n",
    "select_number_of_drivers_under_18 = cursor_for_front_range_travel_counts.execute('''SELECT [SAMPN], COUNT(AGE),[LIC]\n",
    "                                                                                 FROM AllMPOs_PER_deliv\n",
    "                                                                                 WHERE (AGE <=17 AND LIC = 1)\n",
    "                                                                                 GROUP by SAMPN, LIC''').fetchall()\n",
    "\n",
    "list_of_hhs_with_licensed_drivers_under_18 = [x[0] for x in select_number_of_drivers_under_18]\n",
    "\n",
    "for each_household in dictionary_of_auto_availablility_variables.items():\n",
    "    household_id = each_household[0]\n",
    "    if household_id == 'column_names':\n",
    "        continue\n",
    "    else:\n",
    "        \n",
    "        if household_id in list_of_hhs_with_licensed_drivers_under_18:   \n",
    "            number_of_drivers = each_household[1][0]\n",
    "            index_of_household_id = list_of_hhs_with_licensed_drivers_under_18.index(household_id)\n",
    "            number_of_licensed_drivers_under_18 = select_number_of_drivers_under_18[index_of_household_id][1]\n",
    "            \n",
    "        \n",
    "            try:\n",
    "                licensed_drivers_under_18_per_driver = number_of_licensed_drivers_under_18 / number_of_drivers\n",
    "\n",
    "            except ZeroDivisionError:\n",
    "                licensed_drivers_under_18_per_driver = 0\n",
    "        else:\n",
    "            licensed_drivers_under_18_per_driver = 0\n",
    "\n",
    "    dictionary_of_auto_availablility_variables[household_id].append(licensed_drivers_under_18_per_driver)\n",
    "\n",
    "del select_number_of_drivers_under_18"
   ]
  },
  {
   "cell_type": "code",
   "execution_count": 15,
   "metadata": {
    "collapsed": false
   },
   "outputs": [],
   "source": [
    "dictionary_of_auto_availablility_variables['column_names'].append('children_under_5_per_driver')\n",
    "\n",
    "select_number_of_children_under_5 = cursor_for_front_range_travel_counts.execute('''SELECT [SAMPN],COUNT(AGE) \n",
    "                                                                                 FROM AllMPOs_PER_deliv \n",
    "                                                                                 WHERE AGE < 5 \n",
    "                                                                                 GROUP BY SAMPN''').fetchall()\n",
    "\n",
    "list_of_hhs_with_children_under_5 = [x[0] for x in select_number_of_children_under_5]\n",
    "\n",
    "for each_household in dictionary_of_auto_availablility_variables.items():\n",
    "    household_id = each_household[0]\n",
    "    if household_id == 'column_names':\n",
    "        continue\n",
    "    else:\n",
    "        \n",
    "        if household_id in list_of_hhs_with_children_under_5:   \n",
    "            index_of_household_id = list_of_hhs_with_children_under_5.index(household_id)\n",
    "            number_of_children_under_5 = select_number_of_children_under_5[index_of_household_id][1]\n",
    "            number_of_drivers = each_household[1][0]\n",
    "        \n",
    "            try:\n",
    "                children_under_5_per_driver = number_of_children_under_5 / number_of_drivers\n",
    "\n",
    "            except ZeroDivisionError:\n",
    "                children_under_5_per_driver = 0\n",
    "        else:\n",
    "            children_under_5_per_driver = 0\n",
    "\n",
    "    dictionary_of_auto_availablility_variables[household_id].append(children_under_5_per_driver)\n",
    "\n",
    "del select_number_of_children_under_5, list_of_hhs_with_children_under_5"
   ]
  },
  {
   "cell_type": "code",
   "execution_count": 16,
   "metadata": {
    "collapsed": false
   },
   "outputs": [],
   "source": [
    "dictionary_of_auto_availablility_variables['column_names'].append('income_under_15k')\n",
    "dictionary_of_auto_availablility_variables['column_names'].append('income_15k_to_30k')\n",
    "dictionary_of_auto_availablility_variables['column_names'].append('income_75k_to_100k')\n",
    "dictionary_of_auto_availablility_variables['column_names'].append('income_above_100k')\n",
    "dictionary_of_auto_availablility_variables['column_names'].append('income_not_reported')\n",
    "\n",
    "\n",
    "\n",
    "select_hh_income = cursor_for_front_range_travel_counts.execute('''SELECT[SAMPN],[INCOME] \n",
    "                                                                FROM AllMPOs_HH_deliv''')\n",
    "\n",
    "for each_household in select_hh_income:\n",
    "    household_id = each_household[0]\n",
    "    income_category = each_household[1]\n",
    "    list_of_income_categories = [0,0,0,0,0]\n",
    "    if income_category == 1:\n",
    "        list_of_income_categories = [1,0,0,0,0]\n",
    "    if 1 < income_category < 4:\n",
    "        list_of_income_categories = [0,1,0,0,0]\n",
    "    if income_category == 8:\n",
    "        list_of_income_categories = [0,0,1,0,0]\n",
    "    if 8 < income_category < 12:\n",
    "        list_of_income_categories = [0,0,0,1,0]\n",
    "    if income_category > 12:\n",
    "        list_of_income_categories = [0,0,0,0,1]\n",
    "\n",
    "    for each_income_variable in list_of_income_categories:\n",
    "        dictionary_of_auto_availablility_variables[household_id].append(each_income_variable)"
   ]
  },
  {
   "cell_type": "code",
   "execution_count": 17,
   "metadata": {
    "collapsed": false,
    "scrolled": false
   },
   "outputs": [],
   "source": [
    "import csv\n",
    "\n",
    "dictionary_of_auto_availablility_variables['column_names'].append('distance_from_transit')\n",
    "\n",
    "\n",
    "\n",
    "read_distance_to_transit = csv.reader(open('Distance_To_Transit.csv', 'r'))\n",
    "\n",
    "for row in read_distance_to_transit:\n",
    "    household_id = row[0]\n",
    "    try:\n",
    "        float(row[1])\n",
    "        if float(row[1]) <= .5:\n",
    "            if float(row[1]) >= .25:\n",
    "                distance = .5 - float(row[1])\n",
    "            else:\n",
    "                distance = .25\n",
    "        else:\n",
    "            distance = 0\n",
    "        dictionary_of_auto_availablility_variables[int(household_id)].append(distance)\n",
    "    except:\n",
    "        pass"
   ]
  },
  {
   "cell_type": "code",
   "execution_count": 18,
   "metadata": {
    "collapsed": false
   },
   "outputs": [],
   "source": [
    "dictionary_of_auto_availablility_variables['column_names'].append('nat_log_of_serv_empl_density')\n",
    "dictionary_of_auto_availablility_variables['column_names'].append('MPO_area')\n",
    "\n",
    "import math\n",
    "\n",
    "ifile  = open('HHs_w_TAZ_ID_4_empl_dens.csv', 'r')\n",
    "read = csv.reader(ifile)\n",
    "\n",
    "for row in read:\n",
    "    household_id = row[1]\n",
    "    empl_density = float(row[2])\n",
    "    MPO_area = row[4]\n",
    "    if (empl_density) > 0:        \n",
    "        nat_log_of_serv_empl_density = math.log(empl_density)\n",
    "    else:\n",
    "        nat_log_of_serv_empl_density = 0\n",
    "    dictionary_of_auto_availablility_variables[int(household_id)].append(nat_log_of_serv_empl_density)\n",
    "    dictionary_of_auto_availablility_variables[int(household_id)].append(MPO_area)    \n",
    "    "
   ]
  },
  {
   "cell_type": "code",
   "execution_count": 19,
   "metadata": {
    "collapsed": true
   },
   "outputs": [],
   "source": [
    "dictionary_of_auto_availablility_variables['column_names'].append('car_ownership_observed')\n",
    "\n",
    "for each_household in dictionary_of_auto_availablility_variables.items():\n",
    "    if each_household[0] == 'column_names':\n",
    "        continue\n",
    "    household_id = each_household[0]\n",
    "    number_of_cars = int(each_household[1][5])\n",
    "        \n",
    "    car_ownership_observed = [0,0,0,0,0]\n",
    "        \n",
    "    if number_of_cars == 0:\n",
    "        dictionary_of_auto_availablility_variables[household_id].append(car_ownership_observed) \n",
    "        continue\n",
    "    if number_of_cars > 4:\n",
    "        number_of_cars = 4\n",
    "        \n",
    "    car_ownership_observed[number_of_cars - 1] = 1\n",
    "    dictionary_of_auto_availablility_variables[household_id].append(car_ownership_observed) "
   ]
  },
  {
   "cell_type": "code",
   "execution_count": 20,
   "metadata": {
    "collapsed": false
   },
   "outputs": [],
   "source": [
    "import os.path\n",
    "if os.path.isfile(r'D:\\Shared\\auto_availablity_variables.csv')== True:\n",
    "    os.remove(r'D:\\Shared\\auto_availablity_variables.csv')\n",
    "\n",
    "with open(r'D:\\Shared\\auto_availablity_variables.csv', 'w', newline = '') as csvfile:\n",
    "    writer = csv.writer(csvfile)\n",
    "    headers = ['sampn', 'alt_id'] + dictionary_of_auto_availablility_variables['column_names']\n",
    "    writer.writerow(headers)\n",
    "    \n",
    "    for each_household in dictionary_of_auto_availablility_variables.items():\n",
    "        household_id = each_household[0]\n",
    "        for each_alt in [1,2,3,4,5]:\n",
    "            household_id_alt = [household_id, each_alt]\n",
    "            variables = each_household[1][:-1]\n",
    "            if_chosen = each_household[1][-1][each_alt -1]\n",
    "            writer.writerow(household_id_alt + variables + [if_chosen])"
   ]
  }
 ],
 "metadata": {
  "anaconda-cloud": {},
  "kernelspec": {
   "display_name": "Python [conda env:larch]",
   "language": "python",
   "name": "conda-env-larch-py"
  },
  "language_info": {
   "codemirror_mode": {
    "name": "ipython",
    "version": 3
   },
   "file_extension": ".py",
   "mimetype": "text/x-python",
   "name": "python",
   "nbconvert_exporter": "python",
   "pygments_lexer": "ipython3",
   "version": "3.5.2"
  }
 },
 "nbformat": 4,
 "nbformat_minor": 1
}
