{
 "cells": [
  {
   "cell_type": "code",
   "execution_count": null,
   "metadata": {
    "collapsed": false
   },
   "outputs": [],
   "source": [
    "import pyodbc\n",
    "\n",
    "connection_to_front_range_travel_counts_on_modeling_server = pyodbc.connect(DSN = 'frtfor_juan')\n",
    "cursor_for_front_range_travel_counts = connection_to_front_range_travel_counts_on_modeling_server.cursor()\n"
   ]
  },
  {
   "cell_type": "code",
   "execution_count": null,
   "metadata": {
    "collapsed": false
   },
   "outputs": [],
   "source": [
    "list_of_variables = []\n",
    "variable = 'number_of_vehicles'\n",
    "list_of_variables.append(variable)\n",
    "\n",
    "select_number_of_vehicles_in_household = cursor_for_front_range_travel_counts.execute('''SELECT [SAMPN],[HHVEH] \n",
    "                                                                                     FROM AllMPOs_HH_deliv''')\n",
    "number_of_vehicles_in_all_households = select_number_of_vehicles_in_household.fetchall()\n",
    "\n",
    "dictionary_of_auto_availablility_variables = {}\n",
    "'''import sys\n",
    "aa = sys.getsizeof(number_of_vehicles_in_all_households)\n",
    "print (aa)'''\n",
    "\n",
    "        \n",
    "for each_households_number_of_vehicles in number_of_vehicles_in_all_households:\n",
    "    household_id = each_households_number_of_vehicles[0]\n",
    "    number_of_vehicles = each_households_number_of_vehicles[1]\n",
    "    dictionary_of_auto_availablility_variables[household_id] = [number_of_vehicles]\n",
    "    \n",
    "del(number_of_vehicles_in_all_households)"
   ]
  },
  {
   "cell_type": "code",
   "execution_count": null,
   "metadata": {
    "collapsed": false
   },
   "outputs": [],
   "source": [
    "variable = 'number_of_workers'\n",
    "list_of_variables.append(variable)\n",
    "\n",
    "select_worker_count = cursor_for_front_range_travel_counts.execute('''SELECT [SAMPN],SUM(WORKS) AS NUMBER_OF_WORKERS \n",
    "                                                            FROM AllMPOs_PER_deliv WHERE WORKS = 1 GROUP BY SAMPN''')\n",
    "fetchall_worker_count = select_worker_count.fetchall()\n",
    "\n",
    "for workers in dictionary_of_auto_availablility_variables.items():\n",
    "    household_id = workers[0]\n",
    "    if household_id in [x[0] for x in fetchall_worker_count]:\n",
    "        index_in_fetchall_worker_count = [x[0] for x in fetchall_worker_count].index(household_id)\n",
    "        number_of_workers = fetchall_worker_count[index_in_fetchall_worker_count][1]\n",
    "    else:\n",
    "        number_of_workers = 0\n",
    "    dictionary_of_auto_availablility_variables[household_id].append(number_of_workers)\n",
    "\n",
    "\n",
    "del(fetchall_worker_count)\n"
   ]
  },
  {
   "cell_type": "code",
   "execution_count": null,
   "metadata": {
    "collapsed": false
   },
   "outputs": [],
   "source": [
    "variables = 'count_of_licensed_drivers' \n",
    "list_of_variables.append(variables)\n",
    "variables = 'list_of_licensed_drivers'\n",
    "list_of_variables.append(variables)\n",
    "variable = 'one_driver_in_hh'\n",
    "list_of_variables.append(variable)\n",
    "variable = 'two_drivers_in_hh'\n",
    "list_of_variables.append(variable)\n",
    "variable = 'three_drivers_in_hh'\n",
    "list_of_variables.append(variable)\n",
    "variable = 'four_drivers_in_hh'\n",
    "list_of_variables.append(variable)\n",
    "variable = 'accvar1'\n",
    "list_of_variables.append(variable)\n",
    "variable = 'accvar2'\n",
    "list_of_variables.append(variable)\n",
    "variable = 'accvar3'\n",
    "list_of_variables.append(variable)\n",
    "variable = 'accvar4'\n",
    "list_of_variables.append(variable)\n",
    "\n",
    "select_count_of_licensed_drivers = cursor_for_front_range_travel_counts.execute('''SELECT[SAMPN],[HHLIC]\n",
    "                          FROM [FRTC_Master_as_sent_to_CS_DRCOG_05_25_2016].[dbo].[AllMPOs_HH_deliv]''')\n",
    "\n",
    "fetch_count_of_licensed_drivers = select_count_of_licensed_drivers.fetchall()\n",
    "\n",
    "\n",
    "for each_household in fetch_count_of_licensed_drivers:\n",
    "    household_id = each_household[0]\n",
    "    \n",
    "    if each_household[1] == 0:\n",
    "        list_of_licensed_drivers = [0,0,0,0]\n",
    "        accvar1 = 0\n",
    "        accvar2 = 0\n",
    "        accvar3 = 0\n",
    "        accvar4 = 0\n",
    "        one_driver_in_hh = 0\n",
    "        two_drivers_in_hh = 0\n",
    "        three_drivers_in_hh = 0\n",
    "        four_drivers_in_hh = 0        \n",
    "    if each_household[1] == 1:\n",
    "        list_of_licensed_drivers = [1,0,0,0]\n",
    "        accvar1 = 0\n",
    "        accvar2 = 0\n",
    "        accvar3 = 0\n",
    "        accvar4 = 0\n",
    "        one_driver_in_hh = 1\n",
    "        two_drivers_in_hh = 0\n",
    "        three_drivers_in_hh = 0\n",
    "        four_drivers_in_hh = 0    \n",
    "    if each_household[1] == 2:\n",
    "        list_of_licensed_drivers = [0,1,0,0]\n",
    "        accvar1 = 1\n",
    "        accvar2 = 0\n",
    "        accvar3 = 0\n",
    "        accvar4 = 0\n",
    "        one_driver_in_hh = 0\n",
    "        two_drivers_in_hh = 1\n",
    "        three_drivers_in_hh = 0\n",
    "        four_drivers_in_hh = 0    \n",
    "    if each_household[1] == 3:\n",
    "        list_of_licensed_drivers = [0,0,1,0]\n",
    "        accvar1 = 1\n",
    "        accvar2 = 1\n",
    "        accvar3 = 0\n",
    "        accvar4 = 0\n",
    "        one_driver_in_hh = 0\n",
    "        two_drivers_in_hh = 0\n",
    "        three_drivers_in_hh = 1\n",
    "        four_drivers_in_hh = 0    \n",
    "    if each_household[1] == 4:\n",
    "        list_of_licensed_drivers = [0,0,0,1]\n",
    "        accvar1 = 1\n",
    "        accvar2 = 1\n",
    "        accvar3 = 1\n",
    "        accvar4 = 0\n",
    "        one_driver_in_hh = 0\n",
    "        two_drivers_in_hh = 0\n",
    "        three_drivers_in_hh = 0\n",
    "        four_drivers_in_hh = 1    \n",
    "    if each_household[1] >= 5:\n",
    "        list_of_licensed_drivers = [0,0,0,1]\n",
    "        accvar1 = 1\n",
    "        accvar2 = 1\n",
    "        accvar3 = 1\n",
    "        accvar4 = 1\n",
    "        one_driver_in_hh = 0\n",
    "        two_drivers_in_hh = 0\n",
    "        three_drivers_in_hh = 0\n",
    "        four_drivers_in_hh = 1    \n",
    "    dictionary_of_auto_availablility_variables[household_id].append(each_household[1])\n",
    "    dictionary_of_auto_availablility_variables[household_id].append(list_of_licensed_drivers)\n",
    "    dictionary_of_auto_availablility_variables[household_id].append(one_driver_in_hh)\n",
    "    dictionary_of_auto_availablility_variables[household_id].append(two_drivers_in_hh)\n",
    "    dictionary_of_auto_availablility_variables[household_id].append(three_drivers_in_hh)\n",
    "    dictionary_of_auto_availablility_variables[household_id].append(four_drivers_in_hh)    \n",
    "    dictionary_of_auto_availablility_variables[household_id].append(accvar1)\n",
    "    dictionary_of_auto_availablility_variables[household_id].append(accvar2)\n",
    "    dictionary_of_auto_availablility_variables[household_id].append(accvar3)\n",
    "    dictionary_of_auto_availablility_variables[household_id].append(accvar4)\n",
    "# print (dictionary_of_auto_availablility_variables)\n",
    "del(fetch_count_of_licensed_drivers)"
   ]
  },
  {
   "cell_type": "code",
   "execution_count": null,
   "metadata": {
    "collapsed": false
   },
   "outputs": [],
   "source": [
    "variable = 'at_least_as_many_cars_as_workers'\n",
    "list_of_variables.append(variable)\n",
    "\n",
    "for at_least_as_many_cars_as_workers in dictionary_of_auto_availablility_variables.items():\n",
    "    household_id = at_least_as_many_cars_as_workers[0]\n",
    "    \n",
    "    if at_least_as_many_cars_as_workers[1][1] >= at_least_as_many_cars_as_workers[1][0]:\n",
    "        dictionary_of_auto_availablility_variables[household_id].append(1)\n",
    "    else:\n",
    "        dictionary_of_auto_availablility_variables[household_id].append(0)\n",
    "    "
   ]
  },
  {
   "cell_type": "code",
   "execution_count": null,
   "metadata": {
    "collapsed": false
   },
   "outputs": [],
   "source": [
    "print (list_of_variables)\n",
    "\n",
    "print (len(list_of_variables))\n",
    "\n",
    "print (len(dictionary_of_auto_availablility_variables[int(household_id)]))\n",
    "\n",
    "for a in dictionary_of_auto_availablility_variables.values(): \n",
    "    if len(a) == 5: \n",
    "        print('all good') \n",
    "    else:\n",
    "        print('whoops')\n"
   ]
  },
  {
   "cell_type": "code",
   "execution_count": null,
   "metadata": {
    "collapsed": false
   },
   "outputs": [],
   "source": [
    "variable = 'number_of_part_time_workers'\n",
    "list_of_variables.append(variable)\n",
    "\n",
    "select_part_time_worker_count = cursor_for_front_range_travel_counts.execute('''SELECT [SAMPN],COUNT(PERSTYPE)AS NUMBER_OF_PARTTIME_WORKERS FROM AllMPOs_PER_deliv WHERE PERSTYPE = 2 GROUP BY SAMPN''')\n",
    "fetchall_part_time_worker_count = select_part_time_worker_count.fetchall()\n",
    "\n",
    "for part_time_workers in dictionary_of_auto_availablility_variables.items():\n",
    "    household_id = part_time_workers[0]\n",
    "    if household_id in [x[0] for x in fetchall_part_time_worker_count]:\n",
    "        index_in_fetchall_part_time_worker_count = [x[0] for x in fetchall_part_time_worker_count].index(household_id)\n",
    "        number_of_part_time_workers = fetchall_part_time_worker_count[index_in_fetchall_part_time_worker_count][1]\n",
    "    else:\n",
    "        number_of_part_time_workers = 0\n",
    "    \n",
    "    dictionary_of_auto_availablility_variables[household_id].append(number_of_part_time_workers)\n",
    "\n",
    "del(fetchall_part_time_worker_count)\n"
   ]
  },
  {
   "cell_type": "code",
   "execution_count": null,
   "metadata": {
    "collapsed": false
   },
   "outputs": [],
   "source": [
    "variable = 'count_of_household_members_over_75'\n",
    "list_of_variables.append(variable)\n",
    "\n",
    "select_count_of_household_members_over_75 = cursor_for_front_range_travel_counts.execute('''SELECT [SAMPN],COUNT(AGE) \n",
    "                                                             FROM AllMPOs_PER_deliv WHERE AGE > 75 GROUP BY SAMPN''')\n",
    "fetchall_count_of_household_members_over_75 = select_count_of_household_members_over_75.fetchall()\n",
    "\n",
    "for HH_members_over_75 in dictionary_of_auto_availablility_variables.items():\n",
    "    household_id = HH_members_over_75[0]\n",
    "    if household_id in [x[0] for x in fetchall_count_of_household_members_over_75]:\n",
    "        index_in_fetchall_count_of_household_members_over_75 = [x[0] for x in fetchall_count_of_household_members_over_75].index(household_id)\n",
    "        count_of_members_over_75_in_household = fetchall_count_of_household_members_over_75[index_in_fetchall_count_of_household_members_over_75][1]\n",
    "    else:\n",
    "        count_of_members_over_75_in_household = 0\n",
    "                \n",
    "    dictionary_of_auto_availablility_variables[household_id].append(count_of_members_over_75_in_household)\n",
    "\n",
    "# for HH_members_over_75 in dictionary_of_auto_availablility_variables.items():    \n",
    "    # print(HH_members_over_75)\n",
    "    \n",
    "del(fetchall_count_of_household_members_over_75)\n"
   ]
  },
  {
   "cell_type": "code",
   "execution_count": null,
   "metadata": {
    "collapsed": false
   },
   "outputs": [],
   "source": [
    "variable = 'part_time_workers_per_drivers'\n",
    "list_of_variables.append(variable)\n",
    "\n",
    "for part_time_workers_per_drivers in dictionary_of_auto_availablility_variables.items():\n",
    "    household_id = part_time_workers_per_drivers[0]\n",
    "    try:\n",
    "       part_time_workers_per_drivers = (part_time_workers_per_drivers[1][13])/(part_time_workers_per_drivers[1][2])\n",
    "    except:\n",
    "       part_time_workers_per_drivers = 0\n",
    "    dictionary_of_auto_availablility_variables[household_id].append(part_time_workers_per_drivers)\n",
    "    "
   ]
  },
  {
   "cell_type": "code",
   "execution_count": null,
   "metadata": {
    "collapsed": false
   },
   "outputs": [],
   "source": [
    "variable = 'greater_than_75_yr_old_per_drivers'\n",
    "list_of_variables.append(variable)\n",
    "\n",
    "for greater_than_75_yr_old_per_drivers in dictionary_of_auto_availablility_variables.items():\n",
    "    household_id = greater_than_75_yr_old_per_drivers[0]\n",
    "    try:\n",
    "       Gt_75_yr_old_per_drivers = (greater_than_75_yr_old_per_drivers[1][14])/(greater_than_75_yr_old_per_drivers[1][2])\n",
    "    except:\n",
    "       Gt_75_yr_old_per_drivers = 0\n",
    "    dictionary_of_auto_availablility_variables[household_id].append(Gt_75_yr_old_per_drivers)"
   ]
  },
  {
   "cell_type": "code",
   "execution_count": null,
   "metadata": {
    "collapsed": false
   },
   "outputs": [],
   "source": [
    "variable = 'number_of_university_students_per_driver'\n",
    "list_of_variables.append(variable)\n",
    "\n",
    "select_universty_students_count = cursor_for_front_range_travel_counts.execute('''SELECT [SAMPN],COUNT(PERSTYPE)AS NUMBER_OF_UNIVERSITY_STUDENTS FROM AllMPOs_PER_deliv WHERE PERSTYPE = 5 GROUP BY SAMPN''')\n",
    "fetchall_universty_students_count = select_universty_students_count.fetchall()\n",
    "\n",
    "for university_students_per_driver in dictionary_of_auto_availablility_variables.items():\n",
    "    household_id = university_students_per_driver[0]\n",
    "    if household_id in [x[0] for x in fetchall_universty_students_count]:\n",
    "        index_of_household_id = [x[0] for x in fetchall_universty_students_count].index(household_id)\n",
    "        try:\n",
    "            number_of_university_students = fetchall_universty_students_count[index_of_household_id][1]\n",
    "            number_of_university_students_per_driver = number_of_university_students / university_students_per_driver[1][2]\n",
    "        except ZeroDivisionError:\n",
    "            number_of_university_students_per_driver = 0\n",
    "    else:\n",
    "        number_of_university_students_per_driver = 0\n",
    "        \n",
    "    dictionary_of_auto_availablility_variables[household_id].append(number_of_university_students_per_driver)\n",
    "        \n",
    "del fetchall_universty_students_count"
   ]
  },
  {
   "cell_type": "code",
   "execution_count": null,
   "metadata": {
    "collapsed": false
   },
   "outputs": [],
   "source": [
    "variable = 'licensed_drivers_under_18_per_driver'\n",
    "list_of_variables.append(variable)\n",
    "\n",
    "\n",
    "select_licensed_drivers_under_18_count = cursor_for_front_range_travel_counts.execute('''SELECT [SAMPN], count(AGE) as Licensed_drivers_under_18, [LIC]\n",
    "FROM [FRTC_Master_as_sent_to_CS_DRCOG_05_25_2016].[dbo].[AllMPOs_PER_deliv]where (AGE <=17 AND LIC = 1) GROUP by SAMPN, LIC''')\n",
    "\n",
    "fetchall_licensed_drivers_under_18_count = select_licensed_drivers_under_18_count.fetchall()\n",
    "\n",
    "for licensed_drivers_under_18 in dictionary_of_auto_availablility_variables.items():\n",
    "    household_id = licensed_drivers_under_18[0]\n",
    "    if household_id in [x[0] for x in fetchall_licensed_drivers_under_18_count]:   \n",
    "        index_of_household_id = [x[0] for x in fetchall_licensed_drivers_under_18_count].index(household_id)\n",
    "        number_of_licensed_drivers_under_18 = fetchall_licensed_drivers_under_18_count[index_of_household_id][1]\n",
    "        number_of_licensed_drivers = licensed_drivers_under_18[1][2]\n",
    "        try:\n",
    "            licensed_drivers_under_18_per_driver = number_of_licensed_drivers_under_18 / number_of_licensed_drivers\n",
    "        except ZeroDivisionError:\n",
    "            licensed_drivers_under_18_per_driver = 0\n",
    "    else:\n",
    "        licensed_drivers_under_18_per_driver = 0\n",
    "\n",
    "    dictionary_of_auto_availablility_variables[household_id].append(licensed_drivers_under_18_per_driver)\n",
    "del fetchall_licensed_drivers_under_18_count"
   ]
  },
  {
   "cell_type": "code",
   "execution_count": null,
   "metadata": {
    "collapsed": false
   },
   "outputs": [],
   "source": [
    "variable = 'children_under_5_per_driver'\n",
    "list_of_variables.append(variable)\n",
    "\n",
    "select_count_of_children_under_5 = cursor_for_front_range_travel_counts.execute('''SELECT [SAMPN],COUNT(AGE) FROM AllMPOs_PER_deliv WHERE AGE > 75 GROUP BY SAMPN''')\n",
    "\n",
    "fetchall_count_of_children_under_5 = select_count_of_children_under_5.fetchall()\n",
    "\n",
    "for children_under_5 in dictionary_of_auto_availablility_variables.items():\n",
    "    household_id = children_under_5[0]\n",
    "    if household_id in [x[0] for x in fetchall_count_of_children_under_5]:        \n",
    "        index_of_household_id = [x[0] for x in fetchall_count_of_children_under_5].index(household_id)\n",
    "        children_under_5_in_household = fetchall_count_of_children_under_5[index_of_household_id][1]\n",
    "        number_of_drivers = children_under_5[1][2]\n",
    "        try:\n",
    "            children_under_5_per_driver = children_under_5_in_household / number_of_drivers\n",
    "        except ZeroDivisionError:\n",
    "            children_under_5_per_driver = 0\n",
    "    else:\n",
    "        children_under_5_per_driver = 0\n",
    "        \n",
    "    dictionary_of_auto_availablility_variables[household_id].append(children_under_5_per_driver)\n",
    "        \n",
    "del fetchall_count_of_children_under_5       "
   ]
  },
  {
   "cell_type": "code",
   "execution_count": null,
   "metadata": {
    "collapsed": false
   },
   "outputs": [],
   "source": [
    "#print (list_of_variables)\n",
    "#(dictionary_of_auto_availablility_variables)"
   ]
  },
  {
   "cell_type": "code",
   "execution_count": null,
   "metadata": {
    "collapsed": false
   },
   "outputs": [],
   "source": [
    "variable = 'list_of_income_level'\n",
    "list_of_variables.append(variable)\n",
    "variable = 'income_under_15k'\n",
    "list_of_variables.append(variable)\n",
    "variable = 'income_15k_to_30k'\n",
    "list_of_variables.append(variable)\n",
    "variable = 'income_75k_to_100k'\n",
    "list_of_variables.append(variable)\n",
    "variable = 'income_above_100k'\n",
    "list_of_variables.append(variable)\n",
    "variable = 'income_not_reported'\n",
    "list_of_variables.append(variable)\n",
    "\n",
    "select_hh_income = cursor_for_front_range_travel_counts.execute('''SELECT[SAMPN]\n",
    "      ,[INCOME] FROM [FRTC_Master_as_sent_to_CS_DRCOG_05_25_2016].[dbo].[AllMPOs_HH_deliv]''')\n",
    "\n",
    "fetch_hh_income = select_hh_income.fetchall()\n",
    "\n",
    "list_of_hh_income = []\n",
    "for each_household in fetch_hh_income:\n",
    "    household_id = each_household[0]\n",
    "    if each_household[1] == 1:\n",
    "        list_of_hh_income = [1,0,0,0,0]\n",
    "        income_under_15k = 1\n",
    "        income_15k_to_30k = 0\n",
    "        income_75k_to_100k = 0\n",
    "        income_above_100k = 0\n",
    "        income_not_reported = 0\n",
    "    if each_household[1] == 2 or each_household[1] ==3:\n",
    "        list_of_hh_income = [0,1,0,0,0]\n",
    "        income_under_15k = 0\n",
    "        income_15k_to_30k = 1\n",
    "        income_75k_to_100k = 0\n",
    "        income_above_100k = 0\n",
    "        income_not_reported = 0\n",
    "    if each_household[1] >= 4 and each_household[1] <=7:\n",
    "        list_of_hh_income = [0,0,0,0,0]\n",
    "        income_under_15k = 0\n",
    "        income_15k_to_30k = 0\n",
    "        income_75k_to_100k = 0\n",
    "        income_above_100k = 0\n",
    "        income_not_reported = 0\n",
    "    if each_household[1] == 8:\n",
    "        list_of_hh_income = [0,0,1,0,0]\n",
    "        income_under_15k = 0\n",
    "        income_15k_to_30k = 0\n",
    "        income_75k_to_100k = 1\n",
    "        income_above_100k = 0\n",
    "        income_not_reported = 0\n",
    "    if each_household[1] >= 9 and each_household[1] <=11:\n",
    "        list_of_hh_income = [0,0,0,1,0]\n",
    "        income_under_15k = 0\n",
    "        income_15k_to_30k = 0\n",
    "        income_75k_to_100k = 0\n",
    "        income_above_100k = 1\n",
    "        income_not_reported = 0\n",
    "    if each_household[1] == 99:\n",
    "        list_of_hh_income = [0,0,0,0,1]\n",
    "        income_under_15k = 0\n",
    "        income_15k_to_30k = 0\n",
    "        income_75k_to_100k = 0\n",
    "        income_above_100k = 0\n",
    "        income_not_reported = 1\n",
    "    #print (list_of_hh_income)\n",
    "    dictionary_of_auto_availablility_variables[household_id].append(list_of_hh_income)\n",
    "    dictionary_of_auto_availablility_variables[household_id].append(income_under_15k)\n",
    "    dictionary_of_auto_availablility_variables[household_id].append(income_15k_to_30k)    \n",
    "    dictionary_of_auto_availablility_variables[household_id].append(income_75k_to_100k)\n",
    "    dictionary_of_auto_availablility_variables[household_id].append(income_above_100k)\n",
    "    dictionary_of_auto_availablility_variables[household_id].append(income_not_reported)\n",
    "    \n",
    "    "
   ]
  },
  {
   "cell_type": "code",
   "execution_count": null,
   "metadata": {
    "collapsed": false
   },
   "outputs": [],
   "source": [
    "variable = 'logsum_full_time_worker_under_30k'\n",
    "list_of_variables.append(variable)\n",
    "\n",
    "select_full_time_workers_count = cursor_for_front_range_travel_counts.execute('''SELECT [SAMPN],COUNT(PERSTYPE)AS NUMBER_OF_UNIVERSITY_STUDENTS FROM AllMPOs_PER_deliv WHERE PERSTYPE = 1 GROUP BY SAMPN''')\n",
    "fetchall_full_time_workers_count = select_full_time_workers_count.fetchall()\n",
    "\n",
    "for income_under_30k in dictionary_of_auto_availablility_variables.items():\n",
    "    household_id = income_under_30k[0]\n",
    "    if 1 in income_under_30k[1][20][0:2]:\n",
    "        if household_id in [x[0] for x in fetchall_full_time_workers_count]:\n",
    "            index_of_hh = [x[0] for x in fetchall_full_time_workers_count].index(household_id)\n",
    "            number_of_fulltime_workers_per_hh = fetchall_full_time_workers_count[index_of_hh][1]\n",
    "            logsum_full_time_worker_under_30k = 1\n",
    "        else:\n",
    "            logsum_full_time_worker_under_30k = 0\n",
    "    else:\n",
    "        logsum_full_time_worker_under_30k = 0\n",
    "        \n",
    "    dictionary_of_auto_availablility_variables[household_id].append(logsum_full_time_worker_under_30k)\n",
    "    \n",
    "    "
   ]
  },
  {
   "cell_type": "code",
   "execution_count": null,
   "metadata": {
    "collapsed": false
   },
   "outputs": [],
   "source": [
    "variable = 'logsum_students'\n",
    "list_of_variables.append(variable)\n",
    "\n",
    "select_driving_age_students_count = cursor_for_front_range_travel_counts.execute('''SELECT [SAMPN],COUNT(PERSTYPE)AS NUMBER_OF_DRIVING_AGE_STUDENTS FROM AllMPOs_PER_deliv WHERE PERSTYPE = 5 or PERSTYPE = 6 GROUP BY SAMPN''')\n",
    "fetchall_select_driving_age_students_count = select_driving_age_students_count.fetchall()\n",
    "\n",
    "for logsum_students_variable in dictionary_of_auto_availablility_variables.items():\n",
    "    household_id = logsum_students_variable[0]\n",
    "    if household_id in [x[0] for x in fetchall_select_driving_age_students_count]:\n",
    "        index_of_hh = [x[0] for x in fetchall_select_driving_age_students_count].index(household_id)            \n",
    "        number_of_driving_age_students = fetchall_select_driving_age_students_count[index_of_hh][1]       \n",
    "    else:\n",
    "        number_of_driving_age_students = 0\n",
    "    \n",
    "    dictionary_of_auto_availablility_variables[household_id].append(number_of_driving_age_students)"
   ]
  },
  {
   "cell_type": "code",
   "execution_count": null,
   "metadata": {
    "collapsed": false,
    "scrolled": false
   },
   "outputs": [],
   "source": [
    "import csv\n",
    "\n",
    "variable = 'distance_from_transit_stop_var'\n",
    "list_of_variables.append(variable)\n",
    "\n",
    "\n",
    "ifile  = open(r'Z:\\StatewideModelProject\\ModelEstimationdata\\CDOT\\XYDistanceToTransitStop\\FinalToJeff_120216\\Copy of AllMPOs_HH_deliv Lay_TranDist2.csv', \"r\")\n",
    "read = csv.reader(ifile)\n",
    "\n",
    "for row in read:\n",
    "    household_id = row[0]\n",
    "    try:\n",
    "        float(row[1])\n",
    "        if float(row[1]) <= .5:\n",
    "            if float(row[1]) >= .25:\n",
    "                distance = .5 - float(row[1])\n",
    "            else:\n",
    "                distance = .25\n",
    "        else:\n",
    "            distance = 0\n",
    "        dictionary_of_auto_availablility_variables[int(household_id)].append(distance)\n",
    "    except:\n",
    "        pass"
   ]
  },
  {
   "cell_type": "code",
   "execution_count": null,
   "metadata": {
    "collapsed": false
   },
   "outputs": [],
   "source": [
    "import csv\n",
    "import math\n",
    "\n",
    "variable = 'nat_log_of_serv_empl_density'\n",
    "list_of_variables.append(variable)\n",
    "variable = 'MPO_area'\n",
    "list_of_variables.append(variable)\n",
    "\n",
    "ifile  = open(r'Z:\\ForJuan\\csvs_from_jupyter\\HHs_w_TAZ_ID_4_empl_dens.csv', \"r\")\n",
    "read = csv.reader(ifile)\n",
    "\n",
    "for row in read:\n",
    "    household_id = row[1]\n",
    "    empl_density = float(row[2])\n",
    "    MPO_area = row[4]\n",
    "    if (empl_density) > 0:        \n",
    "        nat_log_of_serv_empl_density = math.log(empl_density)\n",
    "    else:\n",
    "        nat_log_of_serv_empl_density = 0\n",
    "    dictionary_of_auto_availablility_variables[int(household_id)].append(nat_log_of_serv_empl_density)\n",
    "    dictionary_of_auto_availablility_variables[int(household_id)].append(MPO_area)    \n",
    "    "
   ]
  },
  {
   "cell_type": "code",
   "execution_count": null,
   "metadata": {
    "collapsed": false
   },
   "outputs": [],
   "source": [
    "#list_a_keys = list(dictionary_of_auto_availablility_variables.keys())\n",
    "\n",
    "#list_a_keys.sort()\n",
    "#print(list_a_keys)"
   ]
  },
  {
   "cell_type": "code",
   "execution_count": null,
   "metadata": {
    "collapsed": false
   },
   "outputs": [],
   "source": [
    "variable = 'car_ownership_observed'\n",
    "list_of_variables.append(variable)\n",
    "\n",
    "list_of_car_ownership = []\n",
    "for row in dictionary_of_auto_availablility_variables.items():\n",
    "    car_ownership_observed = int(row[1][0])\n",
    "    household_id = row[0]\n",
    "    if car_ownership_observed == 0:\n",
    "        list_of_car_ownership = [1,0,0,0,0]\n",
    "    if car_ownership_observed == 1:\n",
    "        list_of_car_ownership = [0,1,0,0,0]\n",
    "    if car_ownership_observed == 2:\n",
    "        list_of_car_ownership = [0,0,1,0,0]\n",
    "    if car_ownership_observed == 3:\n",
    "        list_of_car_ownership = [0,0,0,1,0]\n",
    "    if car_ownership_observed >= 4:\n",
    "        list_of_car_ownership = [0,0,0,0,1]\n",
    "    \n",
    "    dictionary_of_auto_availablility_variables[int(household_id)].append(list_of_car_ownership)"
   ]
  },
  {
   "cell_type": "code",
   "execution_count": null,
   "metadata": {
    "collapsed": false
   },
   "outputs": [],
   "source": [
    "print (list_of_variables)\n",
    "\n",
    "print (len(list_of_variables))\n",
    "\n",
    "print (len(dictionary_of_auto_availablility_variables[int(household_id)]))\n",
    "\n",
    "for a in dictionary_of_auto_availablility_variables.values(): \n",
    "    if len(a) == 32: \n",
    "        print('all good') \n",
    "    else:\n",
    "        print('whoops')\n"
   ]
  },
  {
   "cell_type": "code",
   "execution_count": null,
   "metadata": {
    "collapsed": false
   },
   "outputs": [],
   "source": [
    "counter = 0\n",
    "for x in variables:\n",
    "    print((x, counter))\n",
    "    counter = counter + 1\n",
    "\n"
   ]
  },
  {
   "cell_type": "code",
   "execution_count": null,
   "metadata": {
    "collapsed": false
   },
   "outputs": [],
   "source": [
    "import csv\n",
    "\n",
    "with open(r'\\\\dtdtravelmodel\\E\\ForJuan\\csvs_from_jupyter\\auto_availablity_variables_02a.csv', 'w') as csvfile:\n",
    "    writer = csv.writer(csvfile)\n",
    "    writer.writerow(['sampn', 'number_of_vehicles', 'number_of_workers', 'count_of_licensed_drivers', 'list_of_licensed_drivers', 'one_driver_in_hh', 'two_drivers_in_hh', 'three_drivers_in_hh', 'four_drivers_in_hh', 'accvar1', 'accvar2', 'accvar3', 'accvar4', 'at_least_as_many_cars_as_workers', 'number_of_part_time_workers', 'count_of_household_members_over_75', 'part_time_workers_per_drivers', 'greater_than_75_yr_old_per_drivers', 'number_of_university_students_per_driver', 'licensed_drivers_under_18_per_driver', 'children_under_5_per_driver', 'list_of_income_level', 'income_under_15k', 'income_15k_to_30k', 'income_75k_to_100k', 'income_above_100k', 'income_not_reported', 'logsum_full_time_worker_under_30k', 'logsum_students', 'distance_from_transit_stop_var', 'nat_log_of_serv_empl_density', 'MPO_area', 'car_ownership_observed'])\n",
    "    for household_id, variables in dictionary_of_auto_availablility_variables.items():\n",
    "        for each_alternative in variables[31]:\n",
    "            writer.writerow([household_id, variables[0], variables[1], variables[2], variables[3], variables[4], variables[5], variables[6],variables[7],variables[8],variables[9],variables[10], variables[11], variables[12], variables[13], variables[14], variables[15],variables[16], variables[17], variables[18],\n",
    "                          variables[19], variables[20], variables[21], variables[22], variables[23], variables[24], variables[25],variables[26], variables[27], variables[28], variables[29], variables[30], each_alternative])\n"
   ]
  },
  {
   "cell_type": "code",
   "execution_count": null,
   "metadata": {
    "collapsed": false
   },
   "outputs": [],
   "source": [
    "#print (list_of_variables)\n",
    "#(dictionary_of_auto_availablility_variables)"
   ]
  },
  {
   "cell_type": "code",
   "execution_count": null,
   "metadata": {
    "collapsed": false
   },
   "outputs": [],
   "source": [
    "# for a in dictionary_of_auto_availablility_variables.values():\n",
    "#    print(a)"
   ]
  },
  {
   "cell_type": "code",
   "execution_count": null,
   "metadata": {
    "collapsed": false
   },
   "outputs": [],
   "source": [
    "#list_a_keys = list(dictionary_of_auto_availablility_variables.keys())\n",
    "#\n",
    "#list_a_keys.sort()\n",
    "#\n",
    "#for a in list_a_keys:\n",
    "#    print(a)"
   ]
  },
  {
   "cell_type": "code",
   "execution_count": null,
   "metadata": {
    "collapsed": false
   },
   "outputs": [],
   "source": [
    "import csv\n",
    "\n",
    "with open(r'\\\\dtdtravelmodel\\E\\ForJuan\\csvs_from_jupyter\\auto_availablity_variables_perfect038.csv', 'w') as csvfile:\n",
    "    writer = csv.writer(csvfile)\n",
    "    writer.writerow(['sampn', 'number_of_vehicles', 'number_of_workers', 'count_of_licensed_drivers', 'list_of_licensed_drivers', 'accvar1', 'accvar2', 'accvar3', 'accvar4', 'number_of_part_time_workers', 'count_of_household_members_over_75', 'at_least_as_many_cars_as_workers', 'part_time_workers_per_drivers', 'greater_than_75_yr_old_per_drivers', 'number_of_university_students_per_driver', 'licensed_drivers_under_18_per_driver', 'children_under_5_per_driver', 'list_of_income_level', 'logsum_full_time_worker_under_30k', 'logsum_students', 'distance_from_transit_stop_variable'])\n",
    "    for household_id, variables in dictionary_of_auto_availablility_variables.items():\n",
    "        #writer.writerow([household_id, variables])\n",
    "        writer.writerow([household_id, variables[0], variables[1], variables[2], variables[3], variables[4], variables[5], variables[6],variables[7],variables[8],variables[9],variables[10], variables[11], variables[12], variables[13], variables[14], variables[15],variables[16], variables[17], variables[18],\n",
    "                          variables[19]])"
   ]
  }
 ],
 "metadata": {
  "anaconda-cloud": {},
  "kernelspec": {
   "display_name": "Python [conda env:estimation]",
   "language": "python",
   "name": "conda-env-estimation-py"
  },
  "language_info": {
   "codemirror_mode": {
    "name": "ipython",
    "version": 3
   },
   "file_extension": ".py",
   "mimetype": "text/x-python",
   "name": "python",
   "nbconvert_exporter": "python",
   "pygments_lexer": "ipython3",
   "version": "3.5.2"
  }
 },
 "nbformat": 4,
 "nbformat_minor": 1
}
